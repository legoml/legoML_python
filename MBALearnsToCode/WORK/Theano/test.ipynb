{
 "worksheets": [
  {
   "cells": [
    {
     "cell_type": "code",
     "execution_count": null,
     "metadata": {},
     "outputs": [],
     "input": [
      ""
     ],
     "language": "python",
     "prompt_number": 4
    },
    {
     "cell_type": "code",
     "execution_count": null,
     "metadata": {},
     "outputs": [],
     "input": [
      ""
     ],
     "language": "python"
    },
    {
     "cell_type": "code",
     "execution_count": null,
     "metadata": {},
     "outputs": [
      {
       "output_type": "stream",
       "stream": "stdout",
       "text": [
        "Help on module posixpath:\n\nNAME\n    posixpath - Common operations on Posix pathnames.\n\nFILE\n    /Users/vluong/anaconda/lib/python2.7/posixpath.py\n\nMODULE DOCS\n    http://docs.python.org/library/posixpath\n\nDESCRIPTION\n    Instead of importing this module directly, import os and refer to\n    this module as os.path.  The \"os.path\" name is an alias for this\n    module on Posix systems; on other systems (e.g. Mac, Windows),\n    os.path provides the same operations in a manner specific to that\n    platform, and is an alias to another module (e.g. macpath, ntpath).\n    \n    Some of this can actually be useful on non-Posix systems too, e.g.\n    for manipulation of the pathname component of URLs.\n\nFUNCTIONS\n    abspath(path)\n        Return an absolute path.\n    \n    basename(p)\n        Returns the final component of a pathname\n    \n    commonprefix(m)\n        Given a list of pathnames, returns the longest common leading component\n    \n    dirname(p)\n        Returns the directory component of a pathname\n    \n    exists(path)\n        Test whether a path exists.  Returns False for broken symbolic links\n    \n    expanduser(path)\n        Expand ~ and ~user constructions.  If user or $HOME is unknown,\n        do nothing.\n    \n    expandvars(path)\n        Expand shell variables of form $var and ${var}.  Unknown variables\n        are left unchanged.\n    \n    getatime(filename)\n        Return the last access time of a file, reported by os.stat().\n    \n    getctime(filename)\n        Return the metadata change time of a file, reported by os.stat().\n    \n    getmtime(filename)\n        Return the last modification time of a file, reported by os.stat().\n    \n    getsize(filename)\n        Return the size of a file, reported by os.stat().\n    \n    isabs(s)\n        Test whether a path is absolute\n    \n    isdir(s)\n        Return true if the pathname refers to an existing directory.\n    \n    isfile(path)\n        Test whether a path is a regular file\n    \n    islink(path)\n        Test whether a path is a symbolic link\n    \n    ismount(path)\n        Test whether a path is a mount point\n    \n    join(a, *p)\n        Join two or more pathname components, inserting '/' as needed.\n        If any component is an absolute path, all previous path components\n        will be discarded.  An empty last part will result in a path that\n        ends with a separator.\n    \n    lexists(path)\n        Test whether a path exists.  Returns True for broken symbolic links\n    \n    normcase(s)\n        Normalize case of pathname.  Has no effect under Posix\n    \n    normpath(path)\n        Normalize path, eliminating double slashes, etc.\n    \n    realpath(filename)\n        Return the canonical path of the specified filename, eliminating any\n        symbolic links encountered in the path.\n    \n    relpath(path, start='.')\n        Return a relative version of a path\n    \n    samefile(f1, f2)\n        Test whether two pathnames reference the same actual file\n    \n    sameopenfile(fp1, fp2)\n        Test whether two open file objects reference the same file\n    \n    samestat(s1, s2)\n        Test whether two stat buffers reference the same file\n    \n    split(p)\n        Split a pathname.  Returns tuple \"(head, tail)\" where \"tail\" is\n        everything after the final slash.  Either part may be empty.\n    \n    splitdrive(p)\n        Split a pathname into drive and path. On Posix, drive is always\n        empty.\n    \n    splitext(p)\n        Split the extension from a pathname.\n        \n        Extension is everything from the last dot to the end, ignoring\n        leading dots.  Returns \"(root, ext)\"; ext may be empty.\n    \n    walk(top, func, arg)\n        Directory tree walk with callback function.\n        \n        For each directory in the directory tree rooted at top (including top\n        itself, but excluding '.' and '..'), call func(arg, dirname, fnames).\n        dirname is the name of the directory, and fnames a list of the names of\n        the files and subdirectories in dirname (excluding '.' and '..').  func\n        may modify the fnames list in-place (e.g. via del or slice assignment),\n        and walk will only recurse into the subdirectories whose names remain in\n        fnames; this can be used to implement a filter, or to impose a specific\n        order of visiting.  No semantics are defined for, or required of, arg,\n        beyond that arg is always passed to func.  It can be used, e.g., to pass\n        a filename pattern, or a mutable object designed to accumulate\n        statistics.  Passing None for arg is common.\n\nDATA\n    __all__ = ['normcase', 'isabs', 'join', 'splitdrive', 'split', 'splite...\n    altsep = None\n    curdir = '.'\n    defpath = ':/bin:/usr/bin'\n    devnull = '/dev/null'\n    extsep = '.'\n    pardir = '..'\n    pathsep = ':'\n    sep = '/'\n    supports_unicode_filenames = True\n\n\n"
       ]
      }
     ],
     "input": [
      "from os import path\n",
      "help(path)"
     ],
     "language": "python",
     "prompt_number": 4
    }
   ]
  }
 ],
 "cells": [],
 "metadata": {},
 "nbformat": 3,
 "nbformat_minor": 0
}