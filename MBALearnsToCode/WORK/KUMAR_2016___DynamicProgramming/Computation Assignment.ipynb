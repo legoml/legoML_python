{
 "cells": [
  {
   "cell_type": "markdown",
   "metadata": {},
   "source": [
    "# Import Python modules"
   ]
  },
  {
   "cell_type": "code",
   "execution_count": 1,
   "metadata": {
    "collapsed": false
   },
   "outputs": [],
   "source": [
    "from __future__ import division, print_function\n",
    "from dy.DiscrFinState_DiscrInfinTime_DiscValue import Prob\n",
    "from itertools import product\n",
    "from numpy import allclose, amax, argmax, array, maximum, zeros\n",
    "from pandas import DataFrame"
   ]
  },
  {
   "cell_type": "code",
   "execution_count": 2,
   "metadata": {
    "collapsed": true
   },
   "outputs": [],
   "source": [
    "from HelpyFuncs.Print import print_live_in_ipython\n",
    "print_live_in_ipython()"
   ]
  },
  {
   "cell_type": "markdown",
   "metadata": {},
   "source": [
    "# Set CONSTANTS"
   ]
  },
  {
   "cell_type": "code",
   "execution_count": 3,
   "metadata": {
    "collapsed": false
   },
   "outputs": [],
   "source": [
    "NB_STATES = 13  \n",
    "NB_CONTROLS = 3\n",
    "\n",
    "PURCHASE_PROBS = \\\n",
    "    array(\n",
    "        [[ 50,  45,  40,  35,  30,  25, 20, 15, 10,  7,  4,  2,  0],\n",
    "         [110,  92,  80,  69,  59,  50, 42, 35, 29, 24, 20, 17, 15],\n",
    "         [220, 180, 160, 140, 120, 100, 80, 70, 60, 50, 40, 30, 20]]).T / 1e3\n",
    "\n",
    "DISCOUNT_FACTOR = .99\n",
    "\n",
    "ZERO_STATE_TRANSITION_MATRIX = zeros([NB_STATES, NB_STATES])\n",
    "\n",
    "ZERO_VALUE_VECTOR = zeros([NB_STATES, 1])\n",
    "\n",
    "ZERO_STATE_CONTROL_VALUE_MATRIX = zeros([NB_STATES, NB_CONTROLS])"
   ]
  },
  {
   "cell_type": "markdown",
   "metadata": {},
   "source": [
    "# _E-Right-Way_ Set-Ups"
   ]
  },
  {
   "cell_type": "code",
   "execution_count": 4,
   "metadata": {
    "collapsed": false
   },
   "outputs": [],
   "source": [
    "def state_transition_prob_matrix(policy):\n",
    "    p = ZERO_STATE_TRANSITION_MATRIX.copy()\n",
    "    for state in range(NB_STATES):\n",
    "        control = policy[state]\n",
    "        purchase_prob = PURCHASE_PROBS[state, control]\n",
    "        p[state, 0] = purchase_prob\n",
    "        p[state, min(state + 1, 12)] = 1. - purchase_prob\n",
    "    return p\n",
    "\n",
    "def expected_value_per_stage(state, control):\n",
    "    return PURCHASE_PROBS[state, control] * [8., 7., 5.][control] - (control > 0) * .5\n",
    "\n",
    "def expected_values_per_stage(policy):\n",
    "    return array([[expected_value_per_stage(state, policy[state])]\n",
    "                  for state in range(NB_STATES)])\n",
    "\n",
    "def bellman_op(terminal_expected_values=ZERO_VALUE_VECTOR, return_policy=False):\n",
    "    expected_value_matrix = ZERO_STATE_CONTROL_VALUE_MATRIX.copy()\n",
    "    for control in range(NB_CONTROLS):\n",
    "        policy = NB_STATES * [control]\n",
    "        expected_value_matrix[:, control] = \\\n",
    "            (expected_values_per_stage(policy) + \\\n",
    "                DISCOUNT_FACTOR * state_transition_prob_matrix(policy).dot(terminal_expected_values))[:, 0]\n",
    "    if return_policy:\n",
    "        return argmax(expected_value_matrix, axis=1)\n",
    "    else:    \n",
    "        return amax(expected_value_matrix, axis=1, keepdims=True)\n",
    "\n",
    "ERightWay = \\\n",
    "    Prob(\n",
    "        nb_states=NB_STATES,\n",
    "        state_transition_prob_matrix_func=state_transition_prob_matrix,\n",
    "        expected_values_per_stage_func=expected_values_per_stage,\n",
    "        bellman_op=bellman_op)"
   ]
  },
  {
   "cell_type": "markdown",
   "metadata": {},
   "source": [
    "# Value Iteration"
   ]
  },
  {
   "cell_type": "code",
   "execution_count": 5,
   "metadata": {
    "collapsed": false
   },
   "outputs": [
    {
     "name": "stdout",
     "output_type": "stream",
     "text": [
      "Running Value Iteration #1, 2, 3, 4, 5, 6, 7, 8, 9, 10, 11, 12, 13, 14, 15, 16, 17, 18, 19, 20, 21, 22, 23, 24, 25, 26, 27, 28, 29, 30, 31, 32, 33, 34, 35, 36, 37, 38, 39, 40, 41, 42, 43, 44, 45, 46, 47, 48, 49, 50, 51, 52, 53, 54, 55, 56, 57, 58, 59, 60, 61, 62, 63, 64, 65, done!\n",
      "\n",
      "Optimal Solution Determined by Value Iteration:\n"
     ]
    },
    {
     "data": {
      "text/html": [
       "<div>\n",
       "<table border=\"1\" class=\"dataframe\">\n",
       "  <thead>\n",
       "    <tr style=\"text-align: right;\">\n",
       "      <th></th>\n",
       "      <th>control</th>\n",
       "      <th>expected_value</th>\n",
       "    </tr>\n",
       "  </thead>\n",
       "  <tbody>\n",
       "    <tr>\n",
       "      <th>0</th>\n",
       "      <td>2</td>\n",
       "      <td>3.856485</td>\n",
       "    </tr>\n",
       "    <tr>\n",
       "      <th>1</th>\n",
       "      <td>2</td>\n",
       "      <td>3.129462</td>\n",
       "    </tr>\n",
       "    <tr>\n",
       "      <th>2</th>\n",
       "      <td>2</td>\n",
       "      <td>2.515718</td>\n",
       "    </tr>\n",
       "    <tr>\n",
       "      <th>3</th>\n",
       "      <td>2</td>\n",
       "      <td>1.929857</td>\n",
       "    </tr>\n",
       "    <tr>\n",
       "      <th>4</th>\n",
       "      <td>2</td>\n",
       "      <td>1.403996</td>\n",
       "    </tr>\n",
       "    <tr>\n",
       "      <th>5</th>\n",
       "      <td>2</td>\n",
       "      <td>0.970908</td>\n",
       "    </tr>\n",
       "    <tr>\n",
       "      <th>6</th>\n",
       "      <td>0</td>\n",
       "      <td>0.661192</td>\n",
       "    </tr>\n",
       "    <tr>\n",
       "      <th>7</th>\n",
       "      <td>0</td>\n",
       "      <td>0.437885</td>\n",
       "    </tr>\n",
       "    <tr>\n",
       "      <th>8</th>\n",
       "      <td>0</td>\n",
       "      <td>0.267259</td>\n",
       "    </tr>\n",
       "    <tr>\n",
       "      <th>9</th>\n",
       "      <td>0</td>\n",
       "      <td>0.152107</td>\n",
       "    </tr>\n",
       "    <tr>\n",
       "      <th>10</th>\n",
       "      <td>0</td>\n",
       "      <td>0.070577</td>\n",
       "    </tr>\n",
       "    <tr>\n",
       "      <th>11</th>\n",
       "      <td>0</td>\n",
       "      <td>0.023636</td>\n",
       "    </tr>\n",
       "    <tr>\n",
       "      <th>12</th>\n",
       "      <td>0</td>\n",
       "      <td>0.000000</td>\n",
       "    </tr>\n",
       "  </tbody>\n",
       "</table>\n",
       "</div>"
      ],
      "text/plain": [
       "    control  expected_value\n",
       "0         2        3.856485\n",
       "1         2        3.129462\n",
       "2         2        2.515718\n",
       "3         2        1.929857\n",
       "4         2        1.403996\n",
       "5         2        0.970908\n",
       "6         0        0.661192\n",
       "7         0        0.437885\n",
       "8         0        0.267259\n",
       "9         0        0.152107\n",
       "10        0        0.070577\n",
       "11        0        0.023636\n",
       "12        0        0.000000"
      ]
     },
     "execution_count": 5,
     "metadata": {},
     "output_type": "execute_result"
    }
   ],
   "source": [
    "value_iteration_results = ERightWay.value_iteration()\n",
    "\n",
    "print('\\nOptimal Solution Determined by Value Iteration:')\n",
    "value_iteration_results"
   ]
  },
  {
   "cell_type": "markdown",
   "metadata": {
    "collapsed": false
   },
   "source": [
    "# Policy Iteration"
   ]
  },
  {
   "cell_type": "code",
   "execution_count": 6,
   "metadata": {
    "collapsed": false
   },
   "outputs": [
    {
     "name": "stdout",
     "output_type": "stream",
     "text": [
      "Running Policy Iteration #1, 2, 3, done!\n",
      "\n",
      "Optimal Solution Determined by Policy Iteration:\n"
     ]
    },
    {
     "data": {
      "text/html": [
       "<div>\n",
       "<table border=\"1\" class=\"dataframe\">\n",
       "  <thead>\n",
       "    <tr style=\"text-align: right;\">\n",
       "      <th></th>\n",
       "      <th>control</th>\n",
       "      <th>expected_value</th>\n",
       "    </tr>\n",
       "  </thead>\n",
       "  <tbody>\n",
       "    <tr>\n",
       "      <th>0</th>\n",
       "      <td>2</td>\n",
       "      <td>4.095840</td>\n",
       "    </tr>\n",
       "    <tr>\n",
       "      <th>1</th>\n",
       "      <td>2</td>\n",
       "      <td>3.331096</td>\n",
       "    </tr>\n",
       "    <tr>\n",
       "      <th>2</th>\n",
       "      <td>2</td>\n",
       "      <td>2.678998</td>\n",
       "    </tr>\n",
       "    <tr>\n",
       "      <th>3</th>\n",
       "      <td>2</td>\n",
       "      <td>2.054816</td>\n",
       "    </tr>\n",
       "    <tr>\n",
       "      <th>4</th>\n",
       "      <td>2</td>\n",
       "      <td>1.492157</td>\n",
       "    </tr>\n",
       "    <tr>\n",
       "      <th>5</th>\n",
       "      <td>2</td>\n",
       "      <td>1.025056</td>\n",
       "    </tr>\n",
       "    <tr>\n",
       "      <th>6</th>\n",
       "      <td>0</td>\n",
       "      <td>0.684998</td>\n",
       "    </tr>\n",
       "    <tr>\n",
       "      <th>7</th>\n",
       "      <td>0</td>\n",
       "      <td>0.452660</td>\n",
       "    </tr>\n",
       "    <tr>\n",
       "      <th>8</th>\n",
       "      <td>0</td>\n",
       "      <td>0.275691</td>\n",
       "    </tr>\n",
       "    <tr>\n",
       "      <th>9</th>\n",
       "      <td>0</td>\n",
       "      <td>0.156493</td>\n",
       "    </tr>\n",
       "    <tr>\n",
       "      <th>10</th>\n",
       "      <td>0</td>\n",
       "      <td>0.072430</td>\n",
       "    </tr>\n",
       "    <tr>\n",
       "      <th>11</th>\n",
       "      <td>0</td>\n",
       "      <td>0.024183</td>\n",
       "    </tr>\n",
       "    <tr>\n",
       "      <th>12</th>\n",
       "      <td>0</td>\n",
       "      <td>0.000000</td>\n",
       "    </tr>\n",
       "  </tbody>\n",
       "</table>\n",
       "</div>"
      ],
      "text/plain": [
       "    control  expected_value\n",
       "0         2        4.095840\n",
       "1         2        3.331096\n",
       "2         2        2.678998\n",
       "3         2        2.054816\n",
       "4         2        1.492157\n",
       "5         2        1.025056\n",
       "6         0        0.684998\n",
       "7         0        0.452660\n",
       "8         0        0.275691\n",
       "9         0        0.156493\n",
       "10        0        0.072430\n",
       "11        0        0.024183\n",
       "12        0        0.000000"
      ]
     },
     "execution_count": 6,
     "metadata": {},
     "output_type": "execute_result"
    }
   ],
   "source": [
    "policy_iteration_results = ERightWay.policy_iteration()\n",
    "\n",
    "print('\\nOptimal Solution Determined by Policy Iteration:')\n",
    "policy_iteration_results"
   ]
  },
  {
   "cell_type": "markdown",
   "metadata": {},
   "source": [
    "# _APPENDIX: Note on Numerical Inaccuracies by Matrix Inversion_\n",
    "\n",
    "_Note that the Expected Values produced by the Value Iteration procedure are accurate, while those produced by the Policy Iteration procedure, which involves inverting very sparse matrices, are not._"
   ]
  },
  {
   "cell_type": "markdown",
   "metadata": {
    "collapsed": true
   },
   "source": [
    "# _APPENDIX: Code for Discrete-Finite-State, Discrete-Infinite-Time, Discounted-Value Dynamic Programming_"
   ]
  },
  {
   "cell_type": "code",
   "execution_count": 7,
   "metadata": {
    "collapsed": true
   },
   "outputs": [],
   "source": [
    "from __future__ import print_function\n",
    "from numpy import allclose, array, identity, zeros\n",
    "from numpy.linalg import inv\n",
    "from pandas import DataFrame\n",
    "\n",
    "\n",
    "class Prob:\n",
    "    def __init__(\n",
    "            self,\n",
    "            nb_states=1,\n",
    "            state_transition_prob_matrix_func=lambda policy: array([[1.]]),\n",
    "            expected_values_per_stage_func=lambda policy: array([[0.]]),\n",
    "            discount_factor=.999,\n",
    "            bellman_op=lambda terminal_expected_value: array([[0.]])):\n",
    "        self.nb_states = nb_states\n",
    "        self.state_transition_prob_matrix_func = state_transition_prob_matrix_func\n",
    "        self.expected_values_per_stage_func = expected_values_per_stage_func\n",
    "        self.discount_factor = discount_factor\n",
    "        self.bellman_op = bellman_op\n",
    "\n",
    "    def expected_values(self, policy):\n",
    "        return inv(identity(self.nb_states) -\n",
    "                   self.discount_factor * self.state_transition_prob_matrix_func(policy))\\\n",
    "            .dot(self.expected_values_per_stage_func(policy))\n",
    "\n",
    "    def value_iteration(self, init_values=None, rtol=1e-5, atol=1e-8):\n",
    "        if init_values:\n",
    "            curr_values = init_values\n",
    "        else:\n",
    "            curr_values = zeros((self.nb_states, 1))\n",
    "        prev_values = None\n",
    "        i = 0\n",
    "        print('Running Value Iteration #', end='')\n",
    "        while (prev_values is None) or (not allclose(curr_values, prev_values, rtol=rtol, atol=atol)):\n",
    "            i += 1\n",
    "            print(i, end=', ')\n",
    "            prev_values = curr_values.copy()\n",
    "            curr_values = self.bellman_op(terminal_expected_values=prev_values, return_policy=False)\n",
    "        print('done!')\n",
    "        d = DataFrame(dict(control=tuple(self.bellman_op(terminal_expected_values=curr_values, return_policy=True))))\n",
    "        d['expected_value'] = curr_values.flatten()\n",
    "        return d\n",
    "\n",
    "    def policy_iteration(self, init_policy=None):\n",
    "        if init_policy:\n",
    "            curr_policy = init_policy\n",
    "        else:\n",
    "            curr_policy = self.nb_states * (0,)\n",
    "        prev_policy = None\n",
    "        identity_matrix = identity(self.nb_states)\n",
    "        cached_matrix_inverses = {}\n",
    "        i = 0\n",
    "        print('Running Policy Iteration #', end='')\n",
    "        while (prev_policy is None) or (curr_policy != prev_policy):\n",
    "            i += 1\n",
    "            print(i, end=', ')\n",
    "            prev_policy = curr_policy\n",
    "            if prev_policy in cached_matrix_inverses:\n",
    "                matrix_inverse = cached_matrix_inverses[prev_policy]\n",
    "            else:\n",
    "                matrix_inverse = \\\n",
    "                    inv(identity_matrix - self.discount_factor * self.state_transition_prob_matrix_func(prev_policy))\n",
    "                cached_matrix_inverses[prev_policy] = matrix_inverse\n",
    "            expected_values = matrix_inverse.dot(self.expected_values_per_stage_func(prev_policy))\n",
    "            curr_policy = tuple(self.bellman_op(terminal_expected_values=expected_values, return_policy=True))\n",
    "        print('done!')\n",
    "        d = DataFrame(dict(control=curr_policy))\n",
    "        d['expected_value'] = expected_values.flatten()\n",
    "        return d"
   ]
  },
  {
   "cell_type": "markdown",
   "metadata": {},
   "source": [
    "# _APPENDIX: Brute-Force Verification of Optimal Solution_"
   ]
  },
  {
   "cell_type": "code",
   "execution_count": 8,
   "metadata": {
    "collapsed": false
   },
   "outputs": [
    {
     "name": "stdout",
     "output_type": "stream",
     "text": [
      "Brute-Force Search Progress: 1.9%, 3.8%, 5.6%, 7.5%, 9.4%, 11.3%, 13.2%, 15.1%, 16.9%, 18.8%, 20.7%, 22.6%, 24.5%, 26.3%, 28.2%, 30.1%, 32.0%, 33.9%, 35.8%, 37.6%, 39.5%, 41.4%, 43.3%, 45.2%, 47.0%, 48.9%, 50.8%, 52.7%, 54.6%, 56.5%, 58.3%, 60.2%, 62.1%, 64.0%, 65.9%, 67.7%, 69.6%, 71.5%, 73.4%, 75.3%, 77.1%, 79.0%, 80.9%, 82.8%, 84.7%, 86.6%, 88.4%, 90.3%, 92.2%, 94.1%, 96.0%, 97.8%, 99.7%, done!\n",
      "\n",
      "Optimal Solutions Determined by Brute-Force Search:\n"
     ]
    },
    {
     "data": {
      "text/html": [
       "<div>\n",
       "<table border=\"1\" class=\"dataframe\">\n",
       "  <thead>\n",
       "    <tr style=\"text-align: right;\">\n",
       "      <th></th>\n",
       "      <th>control</th>\n",
       "      <th>expected_value</th>\n",
       "    </tr>\n",
       "  </thead>\n",
       "  <tbody>\n",
       "    <tr>\n",
       "      <th>0</th>\n",
       "      <td>2</td>\n",
       "      <td>4.095840</td>\n",
       "    </tr>\n",
       "    <tr>\n",
       "      <th>1</th>\n",
       "      <td>2</td>\n",
       "      <td>3.331096</td>\n",
       "    </tr>\n",
       "    <tr>\n",
       "      <th>2</th>\n",
       "      <td>2</td>\n",
       "      <td>2.678998</td>\n",
       "    </tr>\n",
       "    <tr>\n",
       "      <th>3</th>\n",
       "      <td>2</td>\n",
       "      <td>2.054816</td>\n",
       "    </tr>\n",
       "    <tr>\n",
       "      <th>4</th>\n",
       "      <td>2</td>\n",
       "      <td>1.492157</td>\n",
       "    </tr>\n",
       "    <tr>\n",
       "      <th>5</th>\n",
       "      <td>2</td>\n",
       "      <td>1.025056</td>\n",
       "    </tr>\n",
       "    <tr>\n",
       "      <th>6</th>\n",
       "      <td>0</td>\n",
       "      <td>0.684998</td>\n",
       "    </tr>\n",
       "    <tr>\n",
       "      <th>7</th>\n",
       "      <td>0</td>\n",
       "      <td>0.452660</td>\n",
       "    </tr>\n",
       "    <tr>\n",
       "      <th>8</th>\n",
       "      <td>0</td>\n",
       "      <td>0.275691</td>\n",
       "    </tr>\n",
       "    <tr>\n",
       "      <th>9</th>\n",
       "      <td>0</td>\n",
       "      <td>0.156493</td>\n",
       "    </tr>\n",
       "    <tr>\n",
       "      <th>10</th>\n",
       "      <td>0</td>\n",
       "      <td>0.072430</td>\n",
       "    </tr>\n",
       "    <tr>\n",
       "      <th>11</th>\n",
       "      <td>0</td>\n",
       "      <td>0.024183</td>\n",
       "    </tr>\n",
       "    <tr>\n",
       "      <th>12</th>\n",
       "      <td>0</td>\n",
       "      <td>0.000000</td>\n",
       "    </tr>\n",
       "  </tbody>\n",
       "</table>\n",
       "</div>"
      ],
      "text/plain": [
       "    control  expected_value\n",
       "0         2        4.095840\n",
       "1         2        3.331096\n",
       "2         2        2.678998\n",
       "3         2        2.054816\n",
       "4         2        1.492157\n",
       "5         2        1.025056\n",
       "6         0        0.684998\n",
       "7         0        0.452660\n",
       "8         0        0.275691\n",
       "9         0        0.156493\n",
       "10        0        0.072430\n",
       "11        0        0.024183\n",
       "12        0        0.000000"
      ]
     },
     "execution_count": 8,
     "metadata": {},
     "output_type": "execute_result"
    }
   ],
   "source": [
    "optimal_expected_values = zeros([NB_STATES, 1])\n",
    "\n",
    "print('Brute-Force Search Progress: ', end='')\n",
    "nb_policies = NB_CONTROLS ** NB_STATES\n",
    "i = 0\n",
    "for policy in product(*(NB_STATES * [range(NB_CONTROLS)])):\n",
    "    i += 1\n",
    "    if not(i % 30000):\n",
    "        print('%.1f%%' % (100 * i / nb_policies), end=', ')\n",
    "    expected_values = ERightWay.expected_values(policy)\n",
    "    optimal_expected_values = maximum(optimal_expected_values, expected_values)\n",
    "    if allclose(expected_values, optimal_expected_values):\n",
    "        optimal_policy = policy\n",
    "print('done!\\n')\n",
    "\n",
    "print('Optimal Solutions Determined by Brute-Force Search:')\n",
    "d = DataFrame(dict(control=optimal_policy))\n",
    "d['expected_value'] = optimal_expected_values.flatten()\n",
    "d"
   ]
  }
 ],
 "metadata": {
  "kernelspec": {
   "display_name": "Python 2",
   "language": "python",
   "name": "python2"
  },
  "language_info": {
   "codemirror_mode": {
    "name": "ipython",
    "version": 2
   },
   "file_extension": ".py",
   "mimetype": "text/x-python",
   "name": "python",
   "nbconvert_exporter": "python",
   "pygments_lexer": "ipython2",
   "version": "2.7.11"
  },
  "latex_envs": {
   "bibliofile": "biblio.bib",
   "cite_by": "apalike",
   "current_citInitial": 1,
   "eqLabelWithNumbers": true,
   "eqNumInitial": 0
  },
  "toc": {
   "toc_cell": false,
   "toc_number_sections": true,
   "toc_threshold": 4,
   "toc_window_display": false
  }
 },
 "nbformat": 4,
 "nbformat_minor": 0
}
